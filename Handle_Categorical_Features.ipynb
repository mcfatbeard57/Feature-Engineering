{
  "nbformat": 4,
  "nbformat_minor": 0,
  "metadata": {
    "colab": {
      "name": "Handle_Categorical_Features.ipynb",
      "provenance": [],
      "toc_visible": true,
      "authorship_tag": "ABX9TyNuPYacx6YwhjIq+gSLzDcr",
      "include_colab_link": true
    },
    "kernelspec": {
      "name": "python3",
      "display_name": "Python 3"
    }
  },
  "cells": [
    {
      "cell_type": "markdown",
      "metadata": {
        "id": "view-in-github",
        "colab_type": "text"
      },
      "source": [
        "<a href=\"https://colab.research.google.com/github/mcfatbeard57/Feature-Engineering/blob/main/Handle_Categorical_Features.ipynb\" target=\"_parent\"><img src=\"https://colab.research.google.com/assets/colab-badge.svg\" alt=\"Open In Colab\"/></a>"
      ]
    },
    {
      "cell_type": "markdown",
      "metadata": {
        "id": "ku2EBFuyan11"
      },
      "source": [
        "## Handle Categorical Features"
      ]
    },
    {
      "cell_type": "markdown",
      "metadata": {
        "id": "fqrkEKAaasP4"
      },
      "source": [
        "#### One Hot Encoding"
      ]
    },
    {
      "cell_type": "code",
      "metadata": {
        "id": "ggwg2EiualLz"
      },
      "source": [
        "pd.get_dummies(df,drop_first=True).head()"
      ],
      "execution_count": null,
      "outputs": []
    },
    {
      "cell_type": "markdown",
      "metadata": {
        "id": "n3eryXZGa6ve"
      },
      "source": [
        "#### Onehotencoding with many categories in a feature"
      ]
    },
    {
      "cell_type": "code",
      "metadata": {
        "id": "-KP1hHhia6Wu"
      },
      "source": [
        "# KDD cup orange challenge\r\n",
        "# Take the most frequent categories"
      ],
      "execution_count": null,
      "outputs": []
    },
    {
      "cell_type": "code",
      "metadata": {
        "id": "SK67qndobNO-"
      },
      "source": [
        "# X1 is feature name\r\n",
        "df.X1.value_counts().sort_values(ascending=False).head(10)"
      ],
      "execution_count": null,
      "outputs": []
    },
    {
      "cell_type": "code",
      "metadata": {
        "id": "MoRO1iNlbZu3"
      },
      "source": [
        "lst_10=df.X1.value_counts().sort_values(ascending=False).head(10).index\r\n",
        "lst_10=list(lst_10)"
      ],
      "execution_count": null,
      "outputs": []
    },
    {
      "cell_type": "code",
      "metadata": {
        "id": "VQV1l8libcL9"
      },
      "source": [
        "for categories in lst_10:\r\n",
        "    df[categories]=np.where(df['X1']==categories,1,0)"
      ],
      "execution_count": null,
      "outputs": []
    }
  ]
}